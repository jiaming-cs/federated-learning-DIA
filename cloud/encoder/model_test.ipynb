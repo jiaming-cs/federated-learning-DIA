{
 "cells": [
  {
   "cell_type": "code",
   "execution_count": 22,
   "source": [
    "from encoder import data_feature\r\n",
    "import tensorflow as tf\r\n",
    "from tensorflow.keras.utils import to_categorical\r\n",
    "\r\n",
    "\r\n",
    "\r\n",
    "(x_train, y_train), (x_test, y_test) = tf.keras.datasets.mnist.load_data()\r\n",
    "\r\n"
   ],
   "outputs": [],
   "metadata": {}
  },
  {
   "cell_type": "code",
   "execution_count": 23,
   "source": [
    "x_train = x_train.astype('float32')\r\n",
    "x_test = x_test.astype('float32')\r\n",
    "x_train, x_test = data_feature(x_train), data_feature(x_test)\r\n",
    "y_train = to_categorical(y_train, 10)\r\n",
    "print(x_train.shape)\r\n",
    "print(x_test.shape)"
   ],
   "outputs": [
    {
     "output_type": "stream",
     "name": "stdout",
     "text": [
      "(60000, 128)\n",
      "(10000, 128)\n"
     ]
    }
   ],
   "metadata": {}
  },
  {
   "cell_type": "code",
   "execution_count": 27,
   "source": [
    "from tensorflow.keras.layers import Input, Conv2D, Dense, MaxPool2D, Flatten\r\n",
    "from tensorflow.keras.models import Model, Sequential\r\n",
    "import tensorflow as tf\r\n",
    "import numpy as np\r\n",
    "\r\n",
    "model = Sequential()\r\n",
    "model.add(Input(shape=(128, )))\r\n",
    "model.add(Dense(512, activation='relu'))\r\n",
    "model.add(Dense(256, activation='relu'))\r\n",
    "model.add(Dense(10, activation='softmax'))\r\n",
    "print('output shape:', model.output_shape)\r\n",
    "\r\n",
    "print(model.summary())\r\n",
    "print(y_train.shape)\r\n",
    "\r\n",
    "model.compile(\"adam\", \"categorical_crossentropy\", metrics=[\"accuracy\"])\r\n",
    "model.fit(x_train, y_train, epochs=50, batch_size=128)"
   ],
   "outputs": [
    {
     "output_type": "stream",
     "name": "stdout",
     "text": [
      "output shape: (None, 10)\n",
      "Model: \"sequential\"\n",
      "_________________________________________________________________\n",
      "Layer (type)                 Output Shape              Param #   \n",
      "=================================================================\n",
      "dense_60 (Dense)             (None, 512)               66048     \n",
      "_________________________________________________________________\n",
      "dense_61 (Dense)             (None, 256)               131328    \n",
      "_________________________________________________________________\n",
      "dense_62 (Dense)             (None, 10)                2570      \n",
      "=================================================================\n",
      "Total params: 199,946\n",
      "Trainable params: 199,946\n",
      "Non-trainable params: 0\n",
      "_________________________________________________________________\n",
      "None\n",
      "(60000, 10)\n",
      "Epoch 1/50\n",
      "469/469 [==============================] - 3s 5ms/step - loss: 0.1138 - accuracy: 0.9696\n",
      "Epoch 2/50\n",
      "469/469 [==============================] - 2s 4ms/step - loss: 0.0842 - accuracy: 0.9753\n",
      "Epoch 3/50\n",
      "469/469 [==============================] - 2s 4ms/step - loss: 0.0802 - accuracy: 0.9760\n",
      "Epoch 4/50\n",
      "469/469 [==============================] - 2s 5ms/step - loss: 0.0778 - accuracy: 0.9766\n",
      "Epoch 5/50\n",
      "469/469 [==============================] - 2s 3ms/step - loss: 0.0763 - accuracy: 0.9765\n",
      "Epoch 6/50\n",
      "469/469 [==============================] - 2s 3ms/step - loss: 0.0747 - accuracy: 0.9771\n",
      "Epoch 7/50\n",
      "469/469 [==============================] - 1s 3ms/step - loss: 0.0729 - accuracy: 0.9772\n",
      "Epoch 8/50\n",
      "469/469 [==============================] - 1s 3ms/step - loss: 0.0713 - accuracy: 0.9775\n",
      "Epoch 9/50\n",
      "469/469 [==============================] - 1s 3ms/step - loss: 0.0700 - accuracy: 0.9781\n",
      "Epoch 10/50\n",
      "469/469 [==============================] - 1s 3ms/step - loss: 0.0677 - accuracy: 0.9790\n",
      "Epoch 11/50\n",
      "469/469 [==============================] - 2s 3ms/step - loss: 0.0669 - accuracy: 0.9792\n",
      "Epoch 12/50\n",
      "469/469 [==============================] - 2s 5ms/step - loss: 0.0651 - accuracy: 0.9793\n",
      "Epoch 13/50\n",
      "469/469 [==============================] - 2s 3ms/step - loss: 0.0623 - accuracy: 0.9801\n",
      "Epoch 14/50\n",
      "469/469 [==============================] - 3s 6ms/step - loss: 0.0611 - accuracy: 0.9803\n",
      "Epoch 15/50\n",
      "469/469 [==============================] - 2s 4ms/step - loss: 0.0589 - accuracy: 0.9808\n",
      "Epoch 16/50\n",
      "469/469 [==============================] - 2s 4ms/step - loss: 0.0576 - accuracy: 0.9817\n",
      "Epoch 17/50\n",
      "469/469 [==============================] - 2s 4ms/step - loss: 0.0553 - accuracy: 0.9820\n",
      "Epoch 18/50\n",
      "469/469 [==============================] - 2s 4ms/step - loss: 0.0528 - accuracy: 0.9825\n",
      "Epoch 19/50\n",
      "469/469 [==============================] - 2s 4ms/step - loss: 0.0524 - accuracy: 0.9829\n",
      "Epoch 20/50\n",
      "469/469 [==============================] - 2s 4ms/step - loss: 0.0513 - accuracy: 0.9829\n",
      "Epoch 21/50\n",
      "469/469 [==============================] - 2s 5ms/step - loss: 0.0497 - accuracy: 0.9835\n",
      "Epoch 22/50\n",
      "469/469 [==============================] - 1s 2ms/step - loss: 0.0475 - accuracy: 0.9843\n",
      "Epoch 23/50\n",
      "469/469 [==============================] - 1s 3ms/step - loss: 0.0462 - accuracy: 0.9848\n",
      "Epoch 24/50\n",
      "469/469 [==============================] - 1s 2ms/step - loss: 0.0441 - accuracy: 0.9853\n",
      "Epoch 25/50\n",
      "469/469 [==============================] - 1s 2ms/step - loss: 0.0432 - accuracy: 0.9858\n",
      "Epoch 26/50\n",
      "469/469 [==============================] - 1s 2ms/step - loss: 0.0410 - accuracy: 0.9862\n",
      "Epoch 27/50\n",
      "469/469 [==============================] - 1s 2ms/step - loss: 0.0402 - accuracy: 0.9868\n",
      "Epoch 28/50\n",
      "469/469 [==============================] - 1s 3ms/step - loss: 0.0392 - accuracy: 0.9870\n",
      "Epoch 29/50\n",
      "469/469 [==============================] - 2s 4ms/step - loss: 0.0383 - accuracy: 0.9874\n",
      "Epoch 30/50\n",
      "469/469 [==============================] - 1s 2ms/step - loss: 0.0362 - accuracy: 0.9878\n",
      "Epoch 31/50\n",
      "469/469 [==============================] - 1s 3ms/step - loss: 0.0364 - accuracy: 0.9883\n",
      "Epoch 32/50\n",
      "469/469 [==============================] - 2s 3ms/step - loss: 0.0346 - accuracy: 0.9885\n",
      "Epoch 33/50\n",
      "469/469 [==============================] - 1s 3ms/step - loss: 0.0328 - accuracy: 0.9891\n",
      "Epoch 34/50\n",
      "469/469 [==============================] - 1s 3ms/step - loss: 0.0326 - accuracy: 0.9892\n",
      "Epoch 35/50\n",
      "469/469 [==============================] - 1s 3ms/step - loss: 0.0329 - accuracy: 0.9890\n",
      "Epoch 36/50\n",
      "469/469 [==============================] - 1s 3ms/step - loss: 0.0322 - accuracy: 0.9892\n",
      "Epoch 37/50\n",
      "469/469 [==============================] - 1s 3ms/step - loss: 0.0294 - accuracy: 0.9898\n",
      "Epoch 38/50\n",
      "469/469 [==============================] - 1s 3ms/step - loss: 0.0292 - accuracy: 0.9903\n",
      "Epoch 39/50\n",
      "469/469 [==============================] - 1s 2ms/step - loss: 0.0292 - accuracy: 0.9905\n",
      "Epoch 40/50\n",
      "469/469 [==============================] - 1s 2ms/step - loss: 0.0275 - accuracy: 0.9906\n",
      "Epoch 41/50\n",
      "469/469 [==============================] - 1s 2ms/step - loss: 0.0260 - accuracy: 0.9913\n",
      "Epoch 42/50\n",
      "469/469 [==============================] - 1s 2ms/step - loss: 0.0264 - accuracy: 0.9911\n",
      "Epoch 43/50\n",
      "469/469 [==============================] - 1s 2ms/step - loss: 0.0258 - accuracy: 0.9917\n",
      "Epoch 44/50\n",
      "469/469 [==============================] - 1s 2ms/step - loss: 0.0256 - accuracy: 0.9919\n",
      "Epoch 45/50\n",
      "469/469 [==============================] - 1s 2ms/step - loss: 0.0249 - accuracy: 0.9918\n",
      "Epoch 46/50\n",
      "469/469 [==============================] - 1s 2ms/step - loss: 0.0244 - accuracy: 0.9922\n",
      "Epoch 47/50\n",
      "469/469 [==============================] - 1s 2ms/step - loss: 0.0227 - accuracy: 0.9923\n",
      "Epoch 48/50\n",
      "469/469 [==============================] - 1s 2ms/step - loss: 0.0241 - accuracy: 0.9923\n",
      "Epoch 49/50\n",
      "469/469 [==============================] - 1s 2ms/step - loss: 0.0209 - accuracy: 0.9929\n",
      "Epoch 50/50\n",
      "469/469 [==============================] - 1s 2ms/step - loss: 0.0229 - accuracy: 0.9927\n"
     ]
    },
    {
     "output_type": "execute_result",
     "data": {
      "text/plain": [
       "<keras.callbacks.History at 0x21da6b34548>"
      ]
     },
     "metadata": {},
     "execution_count": 27
    }
   ],
   "metadata": {}
  },
  {
   "cell_type": "code",
   "execution_count": 29,
   "source": [
    "y_test = to_categorical(y_test, 10)\r\n",
    "model.evaluate(x_test, y_test)"
   ],
   "outputs": [
    {
     "output_type": "stream",
     "name": "stdout",
     "text": [
      "313/313 [==============================] - 1s 2ms/step - loss: 0.0091 - accuracy: 0.9973\n"
     ]
    },
    {
     "output_type": "execute_result",
     "data": {
      "text/plain": [
       "[0.009119010530412197, 0.9973000288009644]"
      ]
     },
     "metadata": {},
     "execution_count": 29
    }
   ],
   "metadata": {}
  }
 ],
 "metadata": {
  "orig_nbformat": 4,
  "language_info": {
   "name": "python",
   "version": "3.7.11",
   "mimetype": "text/x-python",
   "codemirror_mode": {
    "name": "ipython",
    "version": 3
   },
   "pygments_lexer": "ipython3",
   "nbconvert_exporter": "python",
   "file_extension": ".py"
  },
  "kernelspec": {
   "name": "python3",
   "display_name": "Python 3.7.11 64-bit ('fl_env': conda)"
  },
  "interpreter": {
   "hash": "82ed8d4a86d6a9a4e9c9b146fb257aed164b3f71be79ce6dbea241806b72b20e"
  }
 },
 "nbformat": 4,
 "nbformat_minor": 2
}