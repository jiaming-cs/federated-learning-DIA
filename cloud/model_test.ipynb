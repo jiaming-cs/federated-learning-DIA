{
 "cells": [
  {
   "cell_type": "code",
   "execution_count": 9,
   "source": [
    "from tensorflow.keras.layers import Input, Conv2D, Dense, MaxPool2D, Flatten\r\n",
    "from tensorflow.keras.models import Model\r\n",
    "\r\n",
    "def get_naive_cnn():\r\n",
    "    _input = Input((28, 28, 1))\r\n",
    "    x = Conv2D(filters=32, kernel_size=(3, 3), strides=(2, 2), activation='relu', padding='same')(_input)\r\n",
    "    x = Conv2D(filters=64, kernel_size=(3, 3), strides=(2, 2), activation='relu', padding='same')(x)\r\n",
    "    x = MaxPool2D((2, 2))(x)\r\n",
    "    x = Conv2D(filters=64, kernel_size=(3, 3), strides=(2, 2), activation='relu', padding='same')(x)\r\n",
    "    x = Conv2D(filters=32, kernel_size=(3, 3), strides=(2, 2), activation='relu', padding='same')(x)\r\n",
    "    x = Flatten()(x)\r\n",
    "    x = Dense(256, activation='relu')(x)\r\n",
    "    x = Dense(128, activation='relu')(x)\r\n",
    "    x = Dense(10, activation='softmax')(x)\r\n",
    "    return Model(inputs=[_input], outputs=[x])\r\n",
    "\r\n",
    "model = get_naive_cnn()\r\n",
    "model.compile(optimizer='adam',\r\n",
    "              loss='categorical_crossentropy',\r\n",
    "              metrics=['accuracy'])\r\n",
    "    "
   ],
   "outputs": [],
   "metadata": {}
  },
  {
   "cell_type": "code",
   "execution_count": 10,
   "source": [
    "import numpy as np\r\n",
    "import tensorflow as tf\r\n",
    "from tensorflow.keras.utils import to_categorical\r\n",
    "\r\n",
    "(x_train, y_train), (x_test, y_test) = tf.keras.datasets.mnist.load_data()\r\n",
    "\r\n",
    "y_train = to_categorical(y_train)\r\n",
    "y_test = to_categorical(y_test)\r\n",
    "\r\n",
    "x_train = np.expand_dims(x_train, -1)\r\n",
    "x_test = np.expand_dims(x_test, -1)\r\n",
    "\r\n",
    "model.fit(x_train, y_train, epochs = 10, validation_split=0.1)\r\n",
    "\r\n"
   ],
   "outputs": [
    {
     "output_type": "stream",
     "name": "stdout",
     "text": [
      "Train on 54000 samples, validate on 6000 samples\n",
      "Epoch 1/1\n",
      "54000/54000 [==============================] - 21s 380us/step - loss: 0.2128 - acc: 0.9324 - val_loss: 0.0885 - val_acc: 0.9725\n"
     ]
    },
    {
     "output_type": "execute_result",
     "data": {
      "text/plain": [
       "<tensorflow.python.keras.callbacks.History at 0x132fc001da0>"
      ]
     },
     "metadata": {},
     "execution_count": 10
    }
   ],
   "metadata": {}
  }
 ],
 "metadata": {
  "orig_nbformat": 4,
  "language_info": {
   "name": "python",
   "version": "3.6.7",
   "mimetype": "text/x-python",
   "codemirror_mode": {
    "name": "ipython",
    "version": 3
   },
   "pygments_lexer": "ipython3",
   "nbconvert_exporter": "python",
   "file_extension": ".py"
  },
  "kernelspec": {
   "name": "python3",
   "display_name": "Python 3.6.7 64-bit ('gcn-tsp-env': conda)"
  },
  "interpreter": {
   "hash": "6def347d89d18b1a09bbe3aa002d9f0d11a69931c70a50cacf59e451f05ef2fd"
  }
 },
 "nbformat": 4,
 "nbformat_minor": 2
}